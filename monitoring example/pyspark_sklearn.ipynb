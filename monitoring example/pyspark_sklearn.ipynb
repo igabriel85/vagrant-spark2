{
 "cells": [
  {
   "cell_type": "code",
   "execution_count": null,
   "id": "initial_id",
   "metadata": {
    "collapsed": true
   },
   "outputs": [],
   "source": [
    "from sklearn import svm, datasets\n",
    "from sklearn.tree import DecisionTreeClassifier\n",
    "from pyspark.sql import SparkSession\n",
    "from skspark.model_selection import GridSearchCV\n",
    "from skspark.model_selection import RandomizedSearchCV\n",
    "\n",
    "# loading data\n",
    "iris = datasets.load_iris()"
   ]
  },
  {
   "cell_type": "code",
   "execution_count": null,
   "outputs": [],
   "source": [
    "iris.data"
   ],
   "metadata": {
    "collapsed": false
   },
   "id": "2e4bfd347c47c08b"
  },
  {
   "cell_type": "code",
   "execution_count": null,
   "outputs": [],
   "source": [
    "# creating spark session\n",
    "spark = SparkSession.builder.master('local[*]').appName(\"Iris\").getOrCreate()"
   ],
   "metadata": {
    "collapsed": false
   },
   "id": "6f8df59d0e872663"
  },
  {
   "cell_type": "code",
   "execution_count": null,
   "outputs": [],
   "source": [
    "# Set hyper-parameters and model\n",
    "hyper_parameters = {'kernel':('linear', 'rbf'), 'C':[0.01, 0.1, 1, 10, 100]}\n",
    "\n",
    "svc = svm.SVC()"
   ],
   "metadata": {
    "collapsed": false
   },
   "id": "33337e1355cfd40a"
  },
  {
   "cell_type": "code",
   "execution_count": null,
   "outputs": [],
   "source": [
    "# creating grid search object\n",
    "gs = GridSearchCV(svc, hyper_parameters, spark=spark)\n",
    "gs.fit(iris.data, iris.target)"
   ],
   "metadata": {
    "collapsed": false
   },
   "id": "c84e9f22e61cfdd"
  },
  {
   "cell_type": "code",
   "execution_count": null,
   "outputs": [],
   "source": [
    "# get best score\n",
    "gs.best_score_"
   ],
   "metadata": {
    "collapsed": false
   },
   "id": "77bd4bd75f780bcd"
  },
  {
   "cell_type": "code",
   "execution_count": null,
   "outputs": [],
   "source": [
    "# get best params\n",
    "gs.best_params_"
   ],
   "metadata": {
    "collapsed": false
   },
   "id": "7ed4316a38622fa2"
  },
  {
   "cell_type": "code",
   "execution_count": null,
   "outputs": [],
   "source": [
    "# get best performing model\n",
    "gs.best_estimator_"
   ],
   "metadata": {
    "collapsed": false
   },
   "id": "c9aa9e252f525ddc"
  },
  {
   "cell_type": "code",
   "execution_count": null,
   "outputs": [],
   "source": [
    "# get all results\n",
    "gs.cv_results_"
   ],
   "metadata": {
    "collapsed": false
   },
   "id": "d8297c54522d7eca"
  },
  {
   "cell_type": "code",
   "execution_count": null,
   "outputs": [],
   "source": [
    "# get all results as pandas dataframe\n",
    "gs.cv_results_as_df()"
   ],
   "metadata": {
    "collapsed": false
   },
   "id": "56eb70a811f614dc"
  },
  {
   "cell_type": "code",
   "execution_count": null,
   "outputs": [],
   "source": [
    "# creating randomsearch  object\n",
    "rs = RandomizedSearchCV(svc, hyper_parameters, spark=spark)\n",
    "rs.fit(iris.data, iris.target)"
   ],
   "metadata": {
    "collapsed": false
   },
   "id": "4b66961ed7b7646c"
  },
  {
   "cell_type": "code",
   "execution_count": null,
   "outputs": [],
   "source": [
    "# get best score\n",
    "rs.best_score_"
   ],
   "metadata": {
    "collapsed": false
   },
   "id": "f49aa92480020e31"
  },
  {
   "cell_type": "code",
   "execution_count": null,
   "outputs": [],
   "source": [
    "# get best params\n",
    "rs.best_params_"
   ],
   "metadata": {
    "collapsed": false
   },
   "id": "7ab8e177b1863fed"
  },
  {
   "cell_type": "code",
   "execution_count": null,
   "outputs": [],
   "source": [
    "# get best performing model\n",
    "rs.best_estimator_"
   ],
   "metadata": {
    "collapsed": false
   },
   "id": "cefa855e28ffe663"
  }
 ],
 "metadata": {
  "kernelspec": {
   "display_name": "Python 3",
   "language": "python",
   "name": "python3"
  },
  "language_info": {
   "codemirror_mode": {
    "name": "ipython",
    "version": 2
   },
   "file_extension": ".py",
   "mimetype": "text/x-python",
   "name": "python",
   "nbconvert_exporter": "python",
   "pygments_lexer": "ipython2",
   "version": "2.7.6"
  }
 },
 "nbformat": 4,
 "nbformat_minor": 5
}
