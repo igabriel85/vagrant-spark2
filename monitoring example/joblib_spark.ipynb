{
 "cells": [
  {
   "cell_type": "code",
   "execution_count": 30,
   "id": "initial_id",
   "metadata": {
    "ExecuteTime": {
     "end_time": "2023-12-07T17:06:51.255475Z",
     "start_time": "2023-12-07T17:06:51.254297Z"
    },
    "collapsed": true,
    "jupyter": {
     "outputs_hidden": true
    }
   },
   "outputs": [],
   "source": [
    "from sklearn.utils import parallel_backend\n",
    "from sklearn.model_selection import cross_val_score, GridSearchCV, RandomizedSearchCV\n",
    "from sklearn import datasets\n",
    "from sklearn import svm\n",
    "from joblibspark import register_spark\n",
    "import pandas as pd"
   ]
  },
  {
   "cell_type": "code",
   "execution_count": 31,
   "id": "9c3f54bcc933bb25",
   "metadata": {
    "ExecuteTime": {
     "end_time": "2023-12-07T17:06:53.165542Z",
     "start_time": "2023-12-07T17:06:53.156476Z"
    },
    "collapsed": false,
    "jupyter": {
     "outputs_hidden": false
    }
   },
   "outputs": [],
   "source": [
    "register_spark()\n"
   ]
  },
  {
   "cell_type": "code",
   "execution_count": 32,
   "id": "7f435291fd03f09b",
   "metadata": {
    "ExecuteTime": {
     "end_time": "2023-12-07T17:06:55.274407Z",
     "start_time": "2023-12-07T17:06:55.267051Z"
    },
    "collapsed": false,
    "jupyter": {
     "outputs_hidden": false
    }
   },
   "outputs": [],
   "source": [
    "#load data\n",
    "iris = datasets.load_iris()"
   ]
  },
  {
   "cell_type": "code",
   "execution_count": 36,
   "id": "82dfb2f7cde77b52",
   "metadata": {
    "ExecuteTime": {
     "end_time": "2023-12-07T17:07:29.136013Z",
     "start_time": "2023-12-07T17:07:29.127491Z"
    },
    "collapsed": false,
    "jupyter": {
     "outputs_hidden": false
    }
   },
   "outputs": [
    {
     "data": {
      "text/plain": [
       "array([0, 0, 0, 0, 0, 0, 0, 0, 0, 0, 0, 0, 0, 0, 0, 0, 0, 0, 0, 0, 0, 0,\n",
       "       0, 0, 0, 0, 0, 0, 0, 0, 0, 0, 0, 0, 0, 0, 0, 0, 0, 0, 0, 0, 0, 0,\n",
       "       0, 0, 0, 0, 0, 0, 1, 1, 1, 1, 1, 1, 1, 1, 1, 1, 1, 1, 1, 1, 1, 1,\n",
       "       1, 1, 1, 1, 1, 1, 1, 1, 1, 1, 1, 1, 1, 1, 1, 1, 1, 1, 1, 1, 1, 1,\n",
       "       1, 1, 1, 1, 1, 1, 1, 1, 1, 1, 1, 1, 2, 2, 2, 2, 2, 2, 2, 2, 2, 2,\n",
       "       2, 2, 2, 2, 2, 2, 2, 2, 2, 2, 2, 2, 2, 2, 2, 2, 2, 2, 2, 2, 2, 2,\n",
       "       2, 2, 2, 2, 2, 2, 2, 2, 2, 2, 2, 2, 2, 2, 2, 2, 2, 2])"
      ]
     },
     "execution_count": 36,
     "metadata": {},
     "output_type": "execute_result"
    }
   ],
   "source": []
  },
  {
   "cell_type": "code",
   "execution_count": 37,
   "id": "ffc0642757f19f27",
   "metadata": {
    "ExecuteTime": {
     "end_time": "2023-12-07T17:07:43.064731Z",
     "start_time": "2023-12-07T17:07:43.057667Z"
    },
    "collapsed": false,
    "jupyter": {
     "outputs_hidden": false
    }
   },
   "outputs": [],
   "source": [
    "# Set hyper-parameters and model\n",
    "hyper_parameters = {'kernel':('linear', 'rbf'), \n",
    "                    'C':[0.01, 0.1, 1, 10, 100]}\n",
    "\n",
    "svc = svm.SVC()"
   ]
  },
  {
   "cell_type": "code",
   "execution_count": 38,
   "id": "d0ba667f7dfe0ec9",
   "metadata": {
    "ExecuteTime": {
     "end_time": "2023-12-07T17:08:17.489660Z",
     "start_time": "2023-12-07T17:08:15.881117Z"
    },
    "collapsed": false,
    "jupyter": {
     "outputs_hidden": false
    }
   },
   "outputs": [
    {
     "name": "stdout",
     "output_type": "stream",
     "text": [
      "Fitting 5 folds for each of 10 candidates, totalling 50 fits\n"
     ]
    },
    {
     "name": "stderr",
     "output_type": "stream",
     "text": [
      "[CV] END ..............................C=0.01, kernel=linear; total time=   0.0s\n",
      "[CV] END ..............................C=0.01, kernel=linear; total time=   0.0s[CV] END ..............................C=0.01, kernel=linear; total time=   0.0s\n",
      "\n",
      "[CV] END ..............................C=0.01, kernel=linear; total time=   0.0s\n",
      "[CV] END ..............................C=0.01, kernel=linear; total time=   0.0s\n",
      "[CV] END .................................C=0.01, kernel=rbf; total time=   0.0s\n",
      "[CV] END .................................C=0.01, kernel=rbf; total time=   0.0s\n",
      "[CV] END .................................C=0.01, kernel=rbf; total time=   0.0s\n",
      "[CV] END .................................C=0.01, kernel=rbf; total time=   0.0s\n",
      "[CV] END ...............................C=0.1, kernel=linear; total time=   0.0s\n",
      "[CV] END .................................C=0.01, kernel=rbf; total time=   0.0s\n",
      "[CV] END ...............................C=0.1, kernel=linear; total time=   0.0s\n",
      "[CV] END ...............................C=0.1, kernel=linear; total time=   0.0s\n",
      "[CV] END ...............................C=0.1, kernel=linear; total time=   0.0s\n",
      "[CV] END ...............................C=0.1, kernel=linear; total time=   0.0s\n",
      "[CV] END ..................................C=0.1, kernel=rbf; total time=   0.0s\n",
      "[CV] END ..................................C=0.1, kernel=rbf; total time=   0.0s\n",
      "[CV] END ..................................C=0.1, kernel=rbf; total time=   0.0s\n",
      "[CV] END ..................................C=0.1, kernel=rbf; total time=   0.0s\n",
      "[CV] END ..................................C=0.1, kernel=rbf; total time=   0.0s\n",
      "[CV] END .................................C=1, kernel=linear; total time=   0.0s\n",
      "[CV] END .................................C=1, kernel=linear; total time=   0.0s\n",
      "[CV] END .................................C=1, kernel=linear; total time=   0.0s\n",
      "[CV] END .................................C=1, kernel=linear; total time=   0.0s\n",
      "[CV] END ....................................C=1, kernel=rbf; total time=   0.0s\n",
      "[CV] END ....................................C=1, kernel=rbf; total time=   0.0s\n",
      "[CV] END .................................C=1, kernel=linear; total time=   0.0s\n",
      "[CV] END ....................................C=1, kernel=rbf; total time=   0.0s\n",
      "[CV] END ....................................C=1, kernel=rbf; total time=   0.0s\n",
      "[CV] END ....................................C=1, kernel=rbf; total time=   0.0s\n",
      "[CV] END ................................C=10, kernel=linear; total time=   0.0s\n",
      "[CV] END ................................C=10, kernel=linear; total time=   0.0s\n",
      "[CV] END ................................C=10, kernel=linear; total time=   0.0s\n",
      "[CV] END ...................................C=10, kernel=rbf; total time=   0.0s\n",
      "[CV] END ................................C=10, kernel=linear; total time=   0.0s\n",
      "[CV] END ................................C=10, kernel=linear; total time=   0.0s\n",
      "[CV] END ...................................C=10, kernel=rbf; total time=   0.0s\n",
      "[CV] END ...................................C=10, kernel=rbf; total time=   0.0s\n",
      "[CV] END ...................................C=10, kernel=rbf; total time=   0.0s\n",
      "[CV] END ...................................C=10, kernel=rbf; total time=   0.0s\n",
      "[CV] END ...............................C=100, kernel=linear; total time=   0.0s\n",
      "[CV] END ...............................C=100, kernel=linear; total time=   0.0s\n",
      "[CV] END ...............................C=100, kernel=linear; total time=   0.0s\n",
      "[CV] END ...............................C=100, kernel=linear; total time=   0.0s\n",
      "[CV] END ...............................C=100, kernel=linear; total time=   0.0s\n",
      "[CV] END ..................................C=100, kernel=rbf; total time=   0.0s\n",
      "[CV] END ..................................C=100, kernel=rbf; total time=   0.0s\n",
      "[CV] END ..................................C=100, kernel=rbf; total time=   0.0s\n",
      "[CV] END ..................................C=100, kernel=rbf; total time=   0.0s\n",
      "[CV] END ..................................C=100, kernel=rbf; total time=   0.0s\n"
     ]
    }
   ],
   "source": [
    "# execute in parallel\n",
    "with parallel_backend('spark', n_jobs=3):\n",
    "    gs = GridSearchCV(svc, hyper_parameters, cv=5, verbose=2)\n",
    "    gs.fit(iris.data, iris.target)\n"
   ]
  },
  {
   "cell_type": "code",
   "execution_count": 39,
   "id": "38772e43d317fc5f",
   "metadata": {
    "ExecuteTime": {
     "end_time": "2023-12-07T17:08:32.272632Z",
     "start_time": "2023-12-07T17:08:32.259145Z"
    },
    "collapsed": false,
    "jupyter": {
     "outputs_hidden": false
    }
   },
   "outputs": [
    {
     "data": {
      "text/plain": [
       "{'mean_fit_time': array([0.00183697, 0.0009882 , 0.00057302, 0.00079064, 0.00056658,\n",
       "        0.00059237, 0.00060019, 0.00086637, 0.00052352, 0.0005168 ]),\n",
       " 'std_fit_time': array([9.07385798e-04, 4.43749035e-04, 5.56919672e-05, 1.76869142e-04,\n",
       "        1.15815648e-04, 5.77387779e-05, 1.71774562e-04, 2.49496011e-04,\n",
       "        4.98013896e-05, 5.25156849e-05]),\n",
       " 'mean_score_time': array([0.00031023, 0.00070858, 0.00028076, 0.00053248, 0.00027018,\n",
       "        0.00048242, 0.0002532 , 0.0004858 , 0.00025649, 0.0003273 ]),\n",
       " 'std_score_time': array([4.86024095e-05, 5.77306100e-04, 1.21818596e-05, 1.53654483e-04,\n",
       "        2.04459188e-05, 2.38350410e-04, 5.84587576e-06, 1.73150898e-04,\n",
       "        1.04408829e-05, 7.53358043e-05]),\n",
       " 'param_C': masked_array(data=[0.01, 0.01, 0.1, 0.1, 1, 1, 10, 10, 100, 100],\n",
       "              mask=[False, False, False, False, False, False, False, False,\n",
       "                    False, False],\n",
       "        fill_value='?',\n",
       "             dtype=object),\n",
       " 'param_kernel': masked_array(data=['linear', 'rbf', 'linear', 'rbf', 'linear', 'rbf',\n",
       "                    'linear', 'rbf', 'linear', 'rbf'],\n",
       "              mask=[False, False, False, False, False, False, False, False,\n",
       "                    False, False],\n",
       "        fill_value='?',\n",
       "             dtype=object),\n",
       " 'params': [{'C': 0.01, 'kernel': 'linear'},\n",
       "  {'C': 0.01, 'kernel': 'rbf'},\n",
       "  {'C': 0.1, 'kernel': 'linear'},\n",
       "  {'C': 0.1, 'kernel': 'rbf'},\n",
       "  {'C': 1, 'kernel': 'linear'},\n",
       "  {'C': 1, 'kernel': 'rbf'},\n",
       "  {'C': 10, 'kernel': 'linear'},\n",
       "  {'C': 10, 'kernel': 'rbf'},\n",
       "  {'C': 100, 'kernel': 'linear'},\n",
       "  {'C': 100, 'kernel': 'rbf'}],\n",
       " 'split0_test_score': array([0.9       , 0.9       , 0.96666667, 0.9       , 0.96666667,\n",
       "        0.96666667, 1.        , 0.96666667, 1.        , 1.        ]),\n",
       " 'split1_test_score': array([0.96666667, 0.93333333, 0.96666667, 0.93333333, 1.        ,\n",
       "        0.96666667, 1.        , 1.        , 1.        , 1.        ]),\n",
       " 'split2_test_score': array([0.86666667, 0.9       , 0.96666667, 0.9       , 0.96666667,\n",
       "        0.96666667, 0.9       , 0.96666667, 0.9       , 0.9       ]),\n",
       " 'split3_test_score': array([0.96666667, 0.96666667, 0.96666667, 0.96666667, 0.96666667,\n",
       "        0.93333333, 0.96666667, 0.96666667, 0.93333333, 0.96666667]),\n",
       " 'split4_test_score': array([0.9       , 0.93333333, 1.        , 0.9       , 1.        ,\n",
       "        1.        , 1.        , 1.        , 1.        , 1.        ]),\n",
       " 'mean_test_score': array([0.92      , 0.92666667, 0.97333333, 0.92      , 0.98      ,\n",
       "        0.96666667, 0.97333333, 0.98      , 0.96666667, 0.97333333]),\n",
       " 'std_test_score': array([0.04      , 0.02494438, 0.01333333, 0.02666667, 0.01632993,\n",
       "        0.02108185, 0.03887301, 0.01632993, 0.0421637 , 0.03887301]),\n",
       " 'rank_test_score': array([9, 8, 3, 9, 1, 6, 3, 1, 6, 3], dtype=int32)}"
      ]
     },
     "execution_count": 39,
     "metadata": {},
     "output_type": "execute_result"
    }
   ],
   "source": [
    "# Results of crossvalidation\n",
    "gs.cv_results_"
   ]
  },
  {
   "cell_type": "code",
   "execution_count": 40,
   "id": "84f53d385036bdae",
   "metadata": {
    "ExecuteTime": {
     "end_time": "2023-12-07T17:08:51.140255Z",
     "start_time": "2023-12-07T17:08:51.129379Z"
    },
    "collapsed": false,
    "jupyter": {
     "outputs_hidden": false
    }
   },
   "outputs": [
    {
     "data": {
      "text/html": [
       "<div>\n",
       "<style scoped>\n",
       "    .dataframe tbody tr th:only-of-type {\n",
       "        vertical-align: middle;\n",
       "    }\n",
       "\n",
       "    .dataframe tbody tr th {\n",
       "        vertical-align: top;\n",
       "    }\n",
       "\n",
       "    .dataframe thead th {\n",
       "        text-align: right;\n",
       "    }\n",
       "</style>\n",
       "<table border=\"1\" class=\"dataframe\">\n",
       "  <thead>\n",
       "    <tr style=\"text-align: right;\">\n",
       "      <th></th>\n",
       "      <th>mean_fit_time</th>\n",
       "      <th>std_fit_time</th>\n",
       "      <th>mean_score_time</th>\n",
       "      <th>std_score_time</th>\n",
       "      <th>param_C</th>\n",
       "      <th>param_kernel</th>\n",
       "      <th>params</th>\n",
       "      <th>split0_test_score</th>\n",
       "      <th>split1_test_score</th>\n",
       "      <th>split2_test_score</th>\n",
       "      <th>split3_test_score</th>\n",
       "      <th>split4_test_score</th>\n",
       "      <th>mean_test_score</th>\n",
       "      <th>std_test_score</th>\n",
       "      <th>rank_test_score</th>\n",
       "    </tr>\n",
       "  </thead>\n",
       "  <tbody>\n",
       "    <tr>\n",
       "      <th>0</th>\n",
       "      <td>0.001837</td>\n",
       "      <td>0.000907</td>\n",
       "      <td>0.000310</td>\n",
       "      <td>0.000049</td>\n",
       "      <td>0.01</td>\n",
       "      <td>linear</td>\n",
       "      <td>{'C': 0.01, 'kernel': 'linear'}</td>\n",
       "      <td>0.900000</td>\n",
       "      <td>0.966667</td>\n",
       "      <td>0.866667</td>\n",
       "      <td>0.966667</td>\n",
       "      <td>0.900000</td>\n",
       "      <td>0.920000</td>\n",
       "      <td>0.040000</td>\n",
       "      <td>9</td>\n",
       "    </tr>\n",
       "    <tr>\n",
       "      <th>1</th>\n",
       "      <td>0.000988</td>\n",
       "      <td>0.000444</td>\n",
       "      <td>0.000709</td>\n",
       "      <td>0.000577</td>\n",
       "      <td>0.01</td>\n",
       "      <td>rbf</td>\n",
       "      <td>{'C': 0.01, 'kernel': 'rbf'}</td>\n",
       "      <td>0.900000</td>\n",
       "      <td>0.933333</td>\n",
       "      <td>0.900000</td>\n",
       "      <td>0.966667</td>\n",
       "      <td>0.933333</td>\n",
       "      <td>0.926667</td>\n",
       "      <td>0.024944</td>\n",
       "      <td>8</td>\n",
       "    </tr>\n",
       "    <tr>\n",
       "      <th>2</th>\n",
       "      <td>0.000573</td>\n",
       "      <td>0.000056</td>\n",
       "      <td>0.000281</td>\n",
       "      <td>0.000012</td>\n",
       "      <td>0.1</td>\n",
       "      <td>linear</td>\n",
       "      <td>{'C': 0.1, 'kernel': 'linear'}</td>\n",
       "      <td>0.966667</td>\n",
       "      <td>0.966667</td>\n",
       "      <td>0.966667</td>\n",
       "      <td>0.966667</td>\n",
       "      <td>1.000000</td>\n",
       "      <td>0.973333</td>\n",
       "      <td>0.013333</td>\n",
       "      <td>3</td>\n",
       "    </tr>\n",
       "    <tr>\n",
       "      <th>3</th>\n",
       "      <td>0.000791</td>\n",
       "      <td>0.000177</td>\n",
       "      <td>0.000532</td>\n",
       "      <td>0.000154</td>\n",
       "      <td>0.1</td>\n",
       "      <td>rbf</td>\n",
       "      <td>{'C': 0.1, 'kernel': 'rbf'}</td>\n",
       "      <td>0.900000</td>\n",
       "      <td>0.933333</td>\n",
       "      <td>0.900000</td>\n",
       "      <td>0.966667</td>\n",
       "      <td>0.900000</td>\n",
       "      <td>0.920000</td>\n",
       "      <td>0.026667</td>\n",
       "      <td>9</td>\n",
       "    </tr>\n",
       "    <tr>\n",
       "      <th>4</th>\n",
       "      <td>0.000567</td>\n",
       "      <td>0.000116</td>\n",
       "      <td>0.000270</td>\n",
       "      <td>0.000020</td>\n",
       "      <td>1</td>\n",
       "      <td>linear</td>\n",
       "      <td>{'C': 1, 'kernel': 'linear'}</td>\n",
       "      <td>0.966667</td>\n",
       "      <td>1.000000</td>\n",
       "      <td>0.966667</td>\n",
       "      <td>0.966667</td>\n",
       "      <td>1.000000</td>\n",
       "      <td>0.980000</td>\n",
       "      <td>0.016330</td>\n",
       "      <td>1</td>\n",
       "    </tr>\n",
       "    <tr>\n",
       "      <th>5</th>\n",
       "      <td>0.000592</td>\n",
       "      <td>0.000058</td>\n",
       "      <td>0.000482</td>\n",
       "      <td>0.000238</td>\n",
       "      <td>1</td>\n",
       "      <td>rbf</td>\n",
       "      <td>{'C': 1, 'kernel': 'rbf'}</td>\n",
       "      <td>0.966667</td>\n",
       "      <td>0.966667</td>\n",
       "      <td>0.966667</td>\n",
       "      <td>0.933333</td>\n",
       "      <td>1.000000</td>\n",
       "      <td>0.966667</td>\n",
       "      <td>0.021082</td>\n",
       "      <td>6</td>\n",
       "    </tr>\n",
       "    <tr>\n",
       "      <th>6</th>\n",
       "      <td>0.000600</td>\n",
       "      <td>0.000172</td>\n",
       "      <td>0.000253</td>\n",
       "      <td>0.000006</td>\n",
       "      <td>10</td>\n",
       "      <td>linear</td>\n",
       "      <td>{'C': 10, 'kernel': 'linear'}</td>\n",
       "      <td>1.000000</td>\n",
       "      <td>1.000000</td>\n",
       "      <td>0.900000</td>\n",
       "      <td>0.966667</td>\n",
       "      <td>1.000000</td>\n",
       "      <td>0.973333</td>\n",
       "      <td>0.038873</td>\n",
       "      <td>3</td>\n",
       "    </tr>\n",
       "    <tr>\n",
       "      <th>7</th>\n",
       "      <td>0.000866</td>\n",
       "      <td>0.000249</td>\n",
       "      <td>0.000486</td>\n",
       "      <td>0.000173</td>\n",
       "      <td>10</td>\n",
       "      <td>rbf</td>\n",
       "      <td>{'C': 10, 'kernel': 'rbf'}</td>\n",
       "      <td>0.966667</td>\n",
       "      <td>1.000000</td>\n",
       "      <td>0.966667</td>\n",
       "      <td>0.966667</td>\n",
       "      <td>1.000000</td>\n",
       "      <td>0.980000</td>\n",
       "      <td>0.016330</td>\n",
       "      <td>1</td>\n",
       "    </tr>\n",
       "    <tr>\n",
       "      <th>8</th>\n",
       "      <td>0.000524</td>\n",
       "      <td>0.000050</td>\n",
       "      <td>0.000256</td>\n",
       "      <td>0.000010</td>\n",
       "      <td>100</td>\n",
       "      <td>linear</td>\n",
       "      <td>{'C': 100, 'kernel': 'linear'}</td>\n",
       "      <td>1.000000</td>\n",
       "      <td>1.000000</td>\n",
       "      <td>0.900000</td>\n",
       "      <td>0.933333</td>\n",
       "      <td>1.000000</td>\n",
       "      <td>0.966667</td>\n",
       "      <td>0.042164</td>\n",
       "      <td>6</td>\n",
       "    </tr>\n",
       "    <tr>\n",
       "      <th>9</th>\n",
       "      <td>0.000517</td>\n",
       "      <td>0.000053</td>\n",
       "      <td>0.000327</td>\n",
       "      <td>0.000075</td>\n",
       "      <td>100</td>\n",
       "      <td>rbf</td>\n",
       "      <td>{'C': 100, 'kernel': 'rbf'}</td>\n",
       "      <td>1.000000</td>\n",
       "      <td>1.000000</td>\n",
       "      <td>0.900000</td>\n",
       "      <td>0.966667</td>\n",
       "      <td>1.000000</td>\n",
       "      <td>0.973333</td>\n",
       "      <td>0.038873</td>\n",
       "      <td>3</td>\n",
       "    </tr>\n",
       "  </tbody>\n",
       "</table>\n",
       "</div>"
      ],
      "text/plain": [
       "   mean_fit_time  std_fit_time  mean_score_time  std_score_time param_C  \\\n",
       "0       0.001837      0.000907         0.000310        0.000049    0.01   \n",
       "1       0.000988      0.000444         0.000709        0.000577    0.01   \n",
       "2       0.000573      0.000056         0.000281        0.000012     0.1   \n",
       "3       0.000791      0.000177         0.000532        0.000154     0.1   \n",
       "4       0.000567      0.000116         0.000270        0.000020       1   \n",
       "5       0.000592      0.000058         0.000482        0.000238       1   \n",
       "6       0.000600      0.000172         0.000253        0.000006      10   \n",
       "7       0.000866      0.000249         0.000486        0.000173      10   \n",
       "8       0.000524      0.000050         0.000256        0.000010     100   \n",
       "9       0.000517      0.000053         0.000327        0.000075     100   \n",
       "\n",
       "  param_kernel                           params  split0_test_score  \\\n",
       "0       linear  {'C': 0.01, 'kernel': 'linear'}           0.900000   \n",
       "1          rbf     {'C': 0.01, 'kernel': 'rbf'}           0.900000   \n",
       "2       linear   {'C': 0.1, 'kernel': 'linear'}           0.966667   \n",
       "3          rbf      {'C': 0.1, 'kernel': 'rbf'}           0.900000   \n",
       "4       linear     {'C': 1, 'kernel': 'linear'}           0.966667   \n",
       "5          rbf        {'C': 1, 'kernel': 'rbf'}           0.966667   \n",
       "6       linear    {'C': 10, 'kernel': 'linear'}           1.000000   \n",
       "7          rbf       {'C': 10, 'kernel': 'rbf'}           0.966667   \n",
       "8       linear   {'C': 100, 'kernel': 'linear'}           1.000000   \n",
       "9          rbf      {'C': 100, 'kernel': 'rbf'}           1.000000   \n",
       "\n",
       "   split1_test_score  split2_test_score  split3_test_score  split4_test_score  \\\n",
       "0           0.966667           0.866667           0.966667           0.900000   \n",
       "1           0.933333           0.900000           0.966667           0.933333   \n",
       "2           0.966667           0.966667           0.966667           1.000000   \n",
       "3           0.933333           0.900000           0.966667           0.900000   \n",
       "4           1.000000           0.966667           0.966667           1.000000   \n",
       "5           0.966667           0.966667           0.933333           1.000000   \n",
       "6           1.000000           0.900000           0.966667           1.000000   \n",
       "7           1.000000           0.966667           0.966667           1.000000   \n",
       "8           1.000000           0.900000           0.933333           1.000000   \n",
       "9           1.000000           0.900000           0.966667           1.000000   \n",
       "\n",
       "   mean_test_score  std_test_score  rank_test_score  \n",
       "0         0.920000        0.040000                9  \n",
       "1         0.926667        0.024944                8  \n",
       "2         0.973333        0.013333                3  \n",
       "3         0.920000        0.026667                9  \n",
       "4         0.980000        0.016330                1  \n",
       "5         0.966667        0.021082                6  \n",
       "6         0.973333        0.038873                3  \n",
       "7         0.980000        0.016330                1  \n",
       "8         0.966667        0.042164                6  \n",
       "9         0.973333        0.038873                3  "
      ]
     },
     "execution_count": 40,
     "metadata": {},
     "output_type": "execute_result"
    }
   ],
   "source": [
    "pd.DataFrame(gs.cv_results_)"
   ]
  },
  {
   "cell_type": "code",
   "execution_count": 41,
   "id": "74104f7512a69b62",
   "metadata": {
    "ExecuteTime": {
     "end_time": "2023-12-07T17:09:02.174344Z",
     "start_time": "2023-12-07T17:09:02.145183Z"
    },
    "collapsed": false,
    "jupyter": {
     "outputs_hidden": false
    }
   },
   "outputs": [
    {
     "data": {
      "text/html": [
       "<style>#sk-container-id-6 {color: black;background-color: white;}#sk-container-id-6 pre{padding: 0;}#sk-container-id-6 div.sk-toggleable {background-color: white;}#sk-container-id-6 label.sk-toggleable__label {cursor: pointer;display: block;width: 100%;margin-bottom: 0;padding: 0.3em;box-sizing: border-box;text-align: center;}#sk-container-id-6 label.sk-toggleable__label-arrow:before {content: \"▸\";float: left;margin-right: 0.25em;color: #696969;}#sk-container-id-6 label.sk-toggleable__label-arrow:hover:before {color: black;}#sk-container-id-6 div.sk-estimator:hover label.sk-toggleable__label-arrow:before {color: black;}#sk-container-id-6 div.sk-toggleable__content {max-height: 0;max-width: 0;overflow: hidden;text-align: left;background-color: #f0f8ff;}#sk-container-id-6 div.sk-toggleable__content pre {margin: 0.2em;color: black;border-radius: 0.25em;background-color: #f0f8ff;}#sk-container-id-6 input.sk-toggleable__control:checked~div.sk-toggleable__content {max-height: 200px;max-width: 100%;overflow: auto;}#sk-container-id-6 input.sk-toggleable__control:checked~label.sk-toggleable__label-arrow:before {content: \"▾\";}#sk-container-id-6 div.sk-estimator input.sk-toggleable__control:checked~label.sk-toggleable__label {background-color: #d4ebff;}#sk-container-id-6 div.sk-label input.sk-toggleable__control:checked~label.sk-toggleable__label {background-color: #d4ebff;}#sk-container-id-6 input.sk-hidden--visually {border: 0;clip: rect(1px 1px 1px 1px);clip: rect(1px, 1px, 1px, 1px);height: 1px;margin: -1px;overflow: hidden;padding: 0;position: absolute;width: 1px;}#sk-container-id-6 div.sk-estimator {font-family: monospace;background-color: #f0f8ff;border: 1px dotted black;border-radius: 0.25em;box-sizing: border-box;margin-bottom: 0.5em;}#sk-container-id-6 div.sk-estimator:hover {background-color: #d4ebff;}#sk-container-id-6 div.sk-parallel-item::after {content: \"\";width: 100%;border-bottom: 1px solid gray;flex-grow: 1;}#sk-container-id-6 div.sk-label:hover label.sk-toggleable__label {background-color: #d4ebff;}#sk-container-id-6 div.sk-serial::before {content: \"\";position: absolute;border-left: 1px solid gray;box-sizing: border-box;top: 0;bottom: 0;left: 50%;z-index: 0;}#sk-container-id-6 div.sk-serial {display: flex;flex-direction: column;align-items: center;background-color: white;padding-right: 0.2em;padding-left: 0.2em;position: relative;}#sk-container-id-6 div.sk-item {position: relative;z-index: 1;}#sk-container-id-6 div.sk-parallel {display: flex;align-items: stretch;justify-content: center;background-color: white;position: relative;}#sk-container-id-6 div.sk-item::before, #sk-container-id-6 div.sk-parallel-item::before {content: \"\";position: absolute;border-left: 1px solid gray;box-sizing: border-box;top: 0;bottom: 0;left: 50%;z-index: -1;}#sk-container-id-6 div.sk-parallel-item {display: flex;flex-direction: column;z-index: 1;position: relative;background-color: white;}#sk-container-id-6 div.sk-parallel-item:first-child::after {align-self: flex-end;width: 50%;}#sk-container-id-6 div.sk-parallel-item:last-child::after {align-self: flex-start;width: 50%;}#sk-container-id-6 div.sk-parallel-item:only-child::after {width: 0;}#sk-container-id-6 div.sk-dashed-wrapped {border: 1px dashed gray;margin: 0 0.4em 0.5em 0.4em;box-sizing: border-box;padding-bottom: 0.4em;background-color: white;}#sk-container-id-6 div.sk-label label {font-family: monospace;font-weight: bold;display: inline-block;line-height: 1.2em;}#sk-container-id-6 div.sk-label-container {text-align: center;}#sk-container-id-6 div.sk-container {/* jupyter's `normalize.less` sets `[hidden] { display: none; }` but bootstrap.min.css set `[hidden] { display: none !important; }` so we also need the `!important` here to be able to override the default hidden behavior on the sphinx rendered scikit-learn.org. See: https://github.com/scikit-learn/scikit-learn/issues/21755 */display: inline-block !important;position: relative;}#sk-container-id-6 div.sk-text-repr-fallback {display: none;}</style><div id=\"sk-container-id-6\" class=\"sk-top-container\"><div class=\"sk-text-repr-fallback\"><pre>SVC(C=1, kernel=&#x27;linear&#x27;)</pre><b>In a Jupyter environment, please rerun this cell to show the HTML representation or trust the notebook. <br />On GitHub, the HTML representation is unable to render, please try loading this page with nbviewer.org.</b></div><div class=\"sk-container\" hidden><div class=\"sk-item\"><div class=\"sk-estimator sk-toggleable\"><input class=\"sk-toggleable__control sk-hidden--visually\" id=\"sk-estimator-id-8\" type=\"checkbox\" checked><label for=\"sk-estimator-id-8\" class=\"sk-toggleable__label sk-toggleable__label-arrow\">SVC</label><div class=\"sk-toggleable__content\"><pre>SVC(C=1, kernel=&#x27;linear&#x27;)</pre></div></div></div></div></div>"
      ],
      "text/plain": [
       "SVC(C=1, kernel='linear')"
      ]
     },
     "execution_count": 41,
     "metadata": {},
     "output_type": "execute_result"
    }
   ],
   "source": [
    "# Best model\n",
    "gs.best_estimator_"
   ]
  },
  {
   "cell_type": "code",
   "execution_count": null,
   "id": "36d2f88e2ec57ee9",
   "metadata": {
    "collapsed": false,
    "jupyter": {
     "outputs_hidden": false
    }
   },
   "outputs": [],
   "source": []
  },
  {
   "cell_type": "code",
   "execution_count": 42,
   "id": "528e95f07ae204b4",
   "metadata": {
    "ExecuteTime": {
     "end_time": "2023-12-07T17:09:12.659653Z",
     "start_time": "2023-12-07T17:09:12.647732Z"
    },
    "collapsed": false,
    "jupyter": {
     "outputs_hidden": false
    }
   },
   "outputs": [
    {
     "data": {
      "text/plain": [
       "0.9800000000000001"
      ]
     },
     "execution_count": 42,
     "metadata": {},
     "output_type": "execute_result"
    }
   ],
   "source": [
    "# Best score\n",
    "gs.best_score_"
   ]
  },
  {
   "cell_type": "code",
   "execution_count": 43,
   "id": "cb275efcf5ec2a0d",
   "metadata": {
    "ExecuteTime": {
     "end_time": "2023-12-07T17:09:34.155346Z",
     "start_time": "2023-12-07T17:09:32.911753Z"
    },
    "collapsed": false,
    "jupyter": {
     "outputs_hidden": false
    }
   },
   "outputs": [
    {
     "name": "stdout",
     "output_type": "stream",
     "text": [
      "Fitting 5 folds for each of 5 candidates, totalling 25 fits\n"
     ]
    },
    {
     "name": "stderr",
     "output_type": "stream",
     "text": [
      "[CV] END ...............................C=0.1, kernel=linear; total time=   0.0s\n",
      "[CV] END ...............................C=0.1, kernel=linear; total time=   0.0s\n",
      "[CV] END ...............................C=0.1, kernel=linear; total time=   0.0s\n",
      "[CV] END ...............................C=100, kernel=linear; total time=   0.0s\n",
      "[CV] END ...............................C=0.1, kernel=linear; total time=   0.0s\n",
      "[CV] END ...............................C=0.1, kernel=linear; total time=   0.0s\n",
      "[CV] END ...............................C=100, kernel=linear; total time=   0.0s\n",
      "[CV] END ...............................C=100, kernel=linear; total time=   0.0s\n",
      "[CV] END ...............................C=100, kernel=linear; total time=   0.0s\n",
      "[CV] END ...............................C=100, kernel=linear; total time=   0.0s\n",
      "[CV] END .................................C=1, kernel=linear; total time=   0.0s\n",
      "[CV] END .................................C=1, kernel=linear; total time=   0.0s\n",
      "[CV] END .................................C=1, kernel=linear; total time=   0.0s\n",
      "[CV] END .................................C=1, kernel=linear; total time=   0.0s\n",
      "[CV] END .................................C=1, kernel=linear; total time=   0.0s\n",
      "[CV] END ..................................C=100, kernel=rbf; total time=   0.0s\n",
      "[CV] END ..................................C=100, kernel=rbf; total time=   0.0s\n",
      "[CV] END ..................................C=100, kernel=rbf; total time=   0.0s\n",
      "[CV] END ..................................C=100, kernel=rbf; total time=   0.0s\n",
      "[CV] END ..................................C=100, kernel=rbf; total time=   0.0s\n",
      "[CV] END .................................C=0.01, kernel=rbf; total time=   0.0s\n",
      "[CV] END .................................C=0.01, kernel=rbf; total time=   0.0s\n",
      "[CV] END .................................C=0.01, kernel=rbf; total time=   0.0s\n",
      "[CV] END .................................C=0.01, kernel=rbf; total time=   0.0s\n",
      "[CV] END .................................C=0.01, kernel=rbf; total time=   0.0s\n"
     ]
    }
   ],
   "source": [
    "with parallel_backend('spark', n_jobs=3):\n",
    "    rs = RandomizedSearchCV(svc, hyper_parameters, cv=5, n_iter=5, random_state=0, verbose=2)\n",
    "    rs.fit(iris.data, iris.target)\n"
   ]
  },
  {
   "cell_type": "code",
   "execution_count": 44,
   "id": "ce223323ab0f6d6b",
   "metadata": {
    "ExecuteTime": {
     "end_time": "2023-12-07T17:09:37.438574Z",
     "start_time": "2023-12-07T17:09:37.415095Z"
    },
    "collapsed": false,
    "jupyter": {
     "outputs_hidden": false
    }
   },
   "outputs": [
    {
     "data": {
      "text/html": [
       "<style>#sk-container-id-7 {color: black;background-color: white;}#sk-container-id-7 pre{padding: 0;}#sk-container-id-7 div.sk-toggleable {background-color: white;}#sk-container-id-7 label.sk-toggleable__label {cursor: pointer;display: block;width: 100%;margin-bottom: 0;padding: 0.3em;box-sizing: border-box;text-align: center;}#sk-container-id-7 label.sk-toggleable__label-arrow:before {content: \"▸\";float: left;margin-right: 0.25em;color: #696969;}#sk-container-id-7 label.sk-toggleable__label-arrow:hover:before {color: black;}#sk-container-id-7 div.sk-estimator:hover label.sk-toggleable__label-arrow:before {color: black;}#sk-container-id-7 div.sk-toggleable__content {max-height: 0;max-width: 0;overflow: hidden;text-align: left;background-color: #f0f8ff;}#sk-container-id-7 div.sk-toggleable__content pre {margin: 0.2em;color: black;border-radius: 0.25em;background-color: #f0f8ff;}#sk-container-id-7 input.sk-toggleable__control:checked~div.sk-toggleable__content {max-height: 200px;max-width: 100%;overflow: auto;}#sk-container-id-7 input.sk-toggleable__control:checked~label.sk-toggleable__label-arrow:before {content: \"▾\";}#sk-container-id-7 div.sk-estimator input.sk-toggleable__control:checked~label.sk-toggleable__label {background-color: #d4ebff;}#sk-container-id-7 div.sk-label input.sk-toggleable__control:checked~label.sk-toggleable__label {background-color: #d4ebff;}#sk-container-id-7 input.sk-hidden--visually {border: 0;clip: rect(1px 1px 1px 1px);clip: rect(1px, 1px, 1px, 1px);height: 1px;margin: -1px;overflow: hidden;padding: 0;position: absolute;width: 1px;}#sk-container-id-7 div.sk-estimator {font-family: monospace;background-color: #f0f8ff;border: 1px dotted black;border-radius: 0.25em;box-sizing: border-box;margin-bottom: 0.5em;}#sk-container-id-7 div.sk-estimator:hover {background-color: #d4ebff;}#sk-container-id-7 div.sk-parallel-item::after {content: \"\";width: 100%;border-bottom: 1px solid gray;flex-grow: 1;}#sk-container-id-7 div.sk-label:hover label.sk-toggleable__label {background-color: #d4ebff;}#sk-container-id-7 div.sk-serial::before {content: \"\";position: absolute;border-left: 1px solid gray;box-sizing: border-box;top: 0;bottom: 0;left: 50%;z-index: 0;}#sk-container-id-7 div.sk-serial {display: flex;flex-direction: column;align-items: center;background-color: white;padding-right: 0.2em;padding-left: 0.2em;position: relative;}#sk-container-id-7 div.sk-item {position: relative;z-index: 1;}#sk-container-id-7 div.sk-parallel {display: flex;align-items: stretch;justify-content: center;background-color: white;position: relative;}#sk-container-id-7 div.sk-item::before, #sk-container-id-7 div.sk-parallel-item::before {content: \"\";position: absolute;border-left: 1px solid gray;box-sizing: border-box;top: 0;bottom: 0;left: 50%;z-index: -1;}#sk-container-id-7 div.sk-parallel-item {display: flex;flex-direction: column;z-index: 1;position: relative;background-color: white;}#sk-container-id-7 div.sk-parallel-item:first-child::after {align-self: flex-end;width: 50%;}#sk-container-id-7 div.sk-parallel-item:last-child::after {align-self: flex-start;width: 50%;}#sk-container-id-7 div.sk-parallel-item:only-child::after {width: 0;}#sk-container-id-7 div.sk-dashed-wrapped {border: 1px dashed gray;margin: 0 0.4em 0.5em 0.4em;box-sizing: border-box;padding-bottom: 0.4em;background-color: white;}#sk-container-id-7 div.sk-label label {font-family: monospace;font-weight: bold;display: inline-block;line-height: 1.2em;}#sk-container-id-7 div.sk-label-container {text-align: center;}#sk-container-id-7 div.sk-container {/* jupyter's `normalize.less` sets `[hidden] { display: none; }` but bootstrap.min.css set `[hidden] { display: none !important; }` so we also need the `!important` here to be able to override the default hidden behavior on the sphinx rendered scikit-learn.org. See: https://github.com/scikit-learn/scikit-learn/issues/21755 */display: inline-block !important;position: relative;}#sk-container-id-7 div.sk-text-repr-fallback {display: none;}</style><div id=\"sk-container-id-7\" class=\"sk-top-container\"><div class=\"sk-text-repr-fallback\"><pre>SVC(C=1, kernel=&#x27;linear&#x27;)</pre><b>In a Jupyter environment, please rerun this cell to show the HTML representation or trust the notebook. <br />On GitHub, the HTML representation is unable to render, please try loading this page with nbviewer.org.</b></div><div class=\"sk-container\" hidden><div class=\"sk-item\"><div class=\"sk-estimator sk-toggleable\"><input class=\"sk-toggleable__control sk-hidden--visually\" id=\"sk-estimator-id-9\" type=\"checkbox\" checked><label for=\"sk-estimator-id-9\" class=\"sk-toggleable__label sk-toggleable__label-arrow\">SVC</label><div class=\"sk-toggleable__content\"><pre>SVC(C=1, kernel=&#x27;linear&#x27;)</pre></div></div></div></div></div>"
      ],
      "text/plain": [
       "SVC(C=1, kernel='linear')"
      ]
     },
     "execution_count": 44,
     "metadata": {},
     "output_type": "execute_result"
    }
   ],
   "source": [
    "rs.best_estimator_"
   ]
  },
  {
   "cell_type": "code",
   "execution_count": 45,
   "id": "978f6211e0c57ffc",
   "metadata": {
    "ExecuteTime": {
     "end_time": "2023-12-07T17:09:38.735024Z",
     "start_time": "2023-12-07T17:09:38.722259Z"
    },
    "collapsed": false,
    "jupyter": {
     "outputs_hidden": false
    }
   },
   "outputs": [
    {
     "data": {
      "text/plain": [
       "0.9800000000000001"
      ]
     },
     "execution_count": 45,
     "metadata": {},
     "output_type": "execute_result"
    }
   ],
   "source": [
    "rs.best_score_"
   ]
  },
  {
   "cell_type": "code",
   "execution_count": 46,
   "id": "f49e0845da119cb9",
   "metadata": {
    "ExecuteTime": {
     "end_time": "2023-12-07T17:09:40.540935Z",
     "start_time": "2023-12-07T17:09:40.533896Z"
    },
    "collapsed": false,
    "jupyter": {
     "outputs_hidden": false
    }
   },
   "outputs": [
    {
     "data": {
      "text/plain": [
       "{'mean_fit_time': array([0.00078063, 0.00058541, 0.00069313, 0.00074067, 0.00092282]),\n",
       " 'std_fit_time': array([1.01709534e-04, 7.89895685e-05, 1.99711300e-04, 1.43433822e-04,\n",
       "        1.32855818e-04]),\n",
       " 'mean_score_time': array([0.00035162, 0.00027299, 0.00048509, 0.00040121, 0.0005434 ]),\n",
       " 'std_score_time': array([1.19791270e-04, 2.70392317e-05, 2.79487418e-04, 1.63945838e-04,\n",
       "        1.02922890e-04]),\n",
       " 'param_kernel': masked_array(data=['linear', 'linear', 'linear', 'rbf', 'rbf'],\n",
       "              mask=[False, False, False, False, False],\n",
       "        fill_value='?',\n",
       "             dtype=object),\n",
       " 'param_C': masked_array(data=[0.1, 100, 1, 100, 0.01],\n",
       "              mask=[False, False, False, False, False],\n",
       "        fill_value='?',\n",
       "             dtype=object),\n",
       " 'params': [{'kernel': 'linear', 'C': 0.1},\n",
       "  {'kernel': 'linear', 'C': 100},\n",
       "  {'kernel': 'linear', 'C': 1},\n",
       "  {'kernel': 'rbf', 'C': 100},\n",
       "  {'kernel': 'rbf', 'C': 0.01}],\n",
       " 'split0_test_score': array([0.96666667, 1.        , 0.96666667, 1.        , 0.9       ]),\n",
       " 'split1_test_score': array([0.96666667, 1.        , 1.        , 1.        , 0.93333333]),\n",
       " 'split2_test_score': array([0.96666667, 0.9       , 0.96666667, 0.9       , 0.9       ]),\n",
       " 'split3_test_score': array([0.96666667, 0.93333333, 0.96666667, 0.96666667, 0.96666667]),\n",
       " 'split4_test_score': array([1.        , 1.        , 1.        , 1.        , 0.93333333]),\n",
       " 'mean_test_score': array([0.97333333, 0.96666667, 0.98      , 0.97333333, 0.92666667]),\n",
       " 'std_test_score': array([0.01333333, 0.0421637 , 0.01632993, 0.03887301, 0.02494438]),\n",
       " 'rank_test_score': array([2, 4, 1, 2, 5], dtype=int32)}"
      ]
     },
     "execution_count": 46,
     "metadata": {},
     "output_type": "execute_result"
    }
   ],
   "source": [
    "rs.cv_results_\n"
   ]
  },
  {
   "cell_type": "code",
   "execution_count": 47,
   "id": "65c3588fc4d29bb6",
   "metadata": {
    "ExecuteTime": {
     "end_time": "2023-12-07T17:09:43.405400Z",
     "start_time": "2023-12-07T17:09:43.372963Z"
    },
    "collapsed": false,
    "jupyter": {
     "outputs_hidden": false
    }
   },
   "outputs": [
    {
     "data": {
      "text/html": [
       "<div>\n",
       "<style scoped>\n",
       "    .dataframe tbody tr th:only-of-type {\n",
       "        vertical-align: middle;\n",
       "    }\n",
       "\n",
       "    .dataframe tbody tr th {\n",
       "        vertical-align: top;\n",
       "    }\n",
       "\n",
       "    .dataframe thead th {\n",
       "        text-align: right;\n",
       "    }\n",
       "</style>\n",
       "<table border=\"1\" class=\"dataframe\">\n",
       "  <thead>\n",
       "    <tr style=\"text-align: right;\">\n",
       "      <th></th>\n",
       "      <th>mean_fit_time</th>\n",
       "      <th>std_fit_time</th>\n",
       "      <th>mean_score_time</th>\n",
       "      <th>std_score_time</th>\n",
       "      <th>param_kernel</th>\n",
       "      <th>param_C</th>\n",
       "      <th>params</th>\n",
       "      <th>split0_test_score</th>\n",
       "      <th>split1_test_score</th>\n",
       "      <th>split2_test_score</th>\n",
       "      <th>split3_test_score</th>\n",
       "      <th>split4_test_score</th>\n",
       "      <th>mean_test_score</th>\n",
       "      <th>std_test_score</th>\n",
       "      <th>rank_test_score</th>\n",
       "    </tr>\n",
       "  </thead>\n",
       "  <tbody>\n",
       "    <tr>\n",
       "      <th>0</th>\n",
       "      <td>0.000781</td>\n",
       "      <td>0.000102</td>\n",
       "      <td>0.000352</td>\n",
       "      <td>0.000120</td>\n",
       "      <td>linear</td>\n",
       "      <td>0.1</td>\n",
       "      <td>{'kernel': 'linear', 'C': 0.1}</td>\n",
       "      <td>0.966667</td>\n",
       "      <td>0.966667</td>\n",
       "      <td>0.966667</td>\n",
       "      <td>0.966667</td>\n",
       "      <td>1.000000</td>\n",
       "      <td>0.973333</td>\n",
       "      <td>0.013333</td>\n",
       "      <td>2</td>\n",
       "    </tr>\n",
       "    <tr>\n",
       "      <th>1</th>\n",
       "      <td>0.000585</td>\n",
       "      <td>0.000079</td>\n",
       "      <td>0.000273</td>\n",
       "      <td>0.000027</td>\n",
       "      <td>linear</td>\n",
       "      <td>100</td>\n",
       "      <td>{'kernel': 'linear', 'C': 100}</td>\n",
       "      <td>1.000000</td>\n",
       "      <td>1.000000</td>\n",
       "      <td>0.900000</td>\n",
       "      <td>0.933333</td>\n",
       "      <td>1.000000</td>\n",
       "      <td>0.966667</td>\n",
       "      <td>0.042164</td>\n",
       "      <td>4</td>\n",
       "    </tr>\n",
       "    <tr>\n",
       "      <th>2</th>\n",
       "      <td>0.000693</td>\n",
       "      <td>0.000200</td>\n",
       "      <td>0.000485</td>\n",
       "      <td>0.000279</td>\n",
       "      <td>linear</td>\n",
       "      <td>1</td>\n",
       "      <td>{'kernel': 'linear', 'C': 1}</td>\n",
       "      <td>0.966667</td>\n",
       "      <td>1.000000</td>\n",
       "      <td>0.966667</td>\n",
       "      <td>0.966667</td>\n",
       "      <td>1.000000</td>\n",
       "      <td>0.980000</td>\n",
       "      <td>0.016330</td>\n",
       "      <td>1</td>\n",
       "    </tr>\n",
       "    <tr>\n",
       "      <th>3</th>\n",
       "      <td>0.000741</td>\n",
       "      <td>0.000143</td>\n",
       "      <td>0.000401</td>\n",
       "      <td>0.000164</td>\n",
       "      <td>rbf</td>\n",
       "      <td>100</td>\n",
       "      <td>{'kernel': 'rbf', 'C': 100}</td>\n",
       "      <td>1.000000</td>\n",
       "      <td>1.000000</td>\n",
       "      <td>0.900000</td>\n",
       "      <td>0.966667</td>\n",
       "      <td>1.000000</td>\n",
       "      <td>0.973333</td>\n",
       "      <td>0.038873</td>\n",
       "      <td>2</td>\n",
       "    </tr>\n",
       "    <tr>\n",
       "      <th>4</th>\n",
       "      <td>0.000923</td>\n",
       "      <td>0.000133</td>\n",
       "      <td>0.000543</td>\n",
       "      <td>0.000103</td>\n",
       "      <td>rbf</td>\n",
       "      <td>0.01</td>\n",
       "      <td>{'kernel': 'rbf', 'C': 0.01}</td>\n",
       "      <td>0.900000</td>\n",
       "      <td>0.933333</td>\n",
       "      <td>0.900000</td>\n",
       "      <td>0.966667</td>\n",
       "      <td>0.933333</td>\n",
       "      <td>0.926667</td>\n",
       "      <td>0.024944</td>\n",
       "      <td>5</td>\n",
       "    </tr>\n",
       "  </tbody>\n",
       "</table>\n",
       "</div>"
      ],
      "text/plain": [
       "   mean_fit_time  std_fit_time  mean_score_time  std_score_time param_kernel  \\\n",
       "0       0.000781      0.000102         0.000352        0.000120       linear   \n",
       "1       0.000585      0.000079         0.000273        0.000027       linear   \n",
       "2       0.000693      0.000200         0.000485        0.000279       linear   \n",
       "3       0.000741      0.000143         0.000401        0.000164          rbf   \n",
       "4       0.000923      0.000133         0.000543        0.000103          rbf   \n",
       "\n",
       "  param_C                          params  split0_test_score  \\\n",
       "0     0.1  {'kernel': 'linear', 'C': 0.1}           0.966667   \n",
       "1     100  {'kernel': 'linear', 'C': 100}           1.000000   \n",
       "2       1    {'kernel': 'linear', 'C': 1}           0.966667   \n",
       "3     100     {'kernel': 'rbf', 'C': 100}           1.000000   \n",
       "4    0.01    {'kernel': 'rbf', 'C': 0.01}           0.900000   \n",
       "\n",
       "   split1_test_score  split2_test_score  split3_test_score  split4_test_score  \\\n",
       "0           0.966667           0.966667           0.966667           1.000000   \n",
       "1           1.000000           0.900000           0.933333           1.000000   \n",
       "2           1.000000           0.966667           0.966667           1.000000   \n",
       "3           1.000000           0.900000           0.966667           1.000000   \n",
       "4           0.933333           0.900000           0.966667           0.933333   \n",
       "\n",
       "   mean_test_score  std_test_score  rank_test_score  \n",
       "0         0.973333        0.013333                2  \n",
       "1         0.966667        0.042164                4  \n",
       "2         0.980000        0.016330                1  \n",
       "3         0.973333        0.038873                2  \n",
       "4         0.926667        0.024944                5  "
      ]
     },
     "execution_count": 47,
     "metadata": {},
     "output_type": "execute_result"
    }
   ],
   "source": [
    "pd.DataFrame(rs.cv_results_)"
   ]
  },
  {
   "cell_type": "code",
   "execution_count": null,
   "id": "1219c19dc7de9060",
   "metadata": {
    "collapsed": false,
    "jupyter": {
     "outputs_hidden": false
    }
   },
   "outputs": [],
   "source": []
  }
 ],
 "metadata": {
  "kernelspec": {
   "display_name": "Python 3 (ipykernel)",
   "language": "python",
   "name": "python3"
  },
  "language_info": {
   "codemirror_mode": {
    "name": "ipython",
    "version": 3
   },
   "file_extension": ".py",
   "mimetype": "text/x-python",
   "name": "python",
   "nbconvert_exporter": "python",
   "pygments_lexer": "ipython3",
   "version": "3.11.10"
  }
 },
 "nbformat": 4,
 "nbformat_minor": 5
}
